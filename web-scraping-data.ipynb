{
 "cells": [
  {
   "cell_type": "code",
   "execution_count": 108,
   "metadata": {},
   "outputs": [],
   "source": [
    "import pandas as pd\n",
    "import requests\n",
    "from bs4 import BeautifulSoup\n",
    "import lxml"
   ]
  },
  {
   "cell_type": "code",
   "execution_count": 109,
   "metadata": {},
   "outputs": [],
   "source": [
    "webpage = requests.get(\"https://www.zameen.com/Homes/Karachi-2-1.html\")"
   ]
  },
  {
   "cell_type": "code",
   "execution_count": 110,
   "metadata": {},
   "outputs": [],
   "source": [
    "soup = BeautifulSoup(webpage.content,\"lxml\")    "
   ]
  },
  {
   "cell_type": "code",
   "execution_count": 111,
   "metadata": {},
   "outputs": [],
   "source": [
    "all_data = soup.find_all(\"div\",class_=\"_732aff15 c7b81b5c\")"
   ]
  },
  {
   "cell_type": "code",
   "execution_count": 112,
   "metadata": {},
   "outputs": [
    {
     "data": {
      "text/plain": [
       "<div class=\"_732aff15 c7b81b5c\"><div><div class=\"_6ccdaada\"><div class=\"b75fc1d9\"><div class=\"_1e0ca152 _0af330ea\"><div><div class=\"_38842953\"><svg class=\"c1a24809\" viewbox=\"0 0 32 32\" xmlns=\"http://www.w3.org/2000/svg\"><g fill=\"#C32C2B\"><path d=\"M6.4 27.4h-.2l-.1-.3c-3-3.8-3.5-8.4-1.6-13.6-.6-1-1-2-1.1-3.2l-.2-.3-.3.1c-2.6 4.3-4.8 10.6-.5 16 1.8 1.8 4.3 3 6.9 3.3a8 8 0 0 1-2.9-2z\"></path><path d=\"M15.6 29.6c-3.1.1-6.1-1-8.3-3.3-4.3-5.4-2.1-11.7.5-16h.4c.1 0 .2 0 .2.2.1 1.7.8 3.2 2 4.4.4-1.4 1.1-2.8 2-4 1.8-2.3 2.5-5.2 2-8l.2-.4h.1l.2.1.5.6c1.2 1.4 2.3 3 3.2 4.5.9 2 1.5 3.8 1.8 6 .7-.6 1.3-1.3 1.7-2 .3-1 .3-2-.1-3l.1-.4h.4a16 16 0 0 1 4.9 11.8 10 10 0 0 1-6.8 9c-1.7.3-3.3.5-5 .5zm-.9-13.8c-.8.8-1.5 1.8-2.1 2.8a9.1 9.1 0 0 0-1.4 4.2c0 3.6 2 6.2 4.6 6.2 1.4 0 2.8-.6 3.7-1.7 1-1 1.4-2.7 1.2-4.2-.4-1.6-1.1-3.2-2.2-4.5-.2.6-.5 1.1-.9 1.5l-.6.5h-.1c-.5 0-.9-.3-1.3-.7a5.8 5.8 0 0 1-.9-4z\"></path><path d=\"M31.9 18a15 15 0 0 0-4.8-9.8h-.4c-.1.1-.2.2-.1.3.3 1 .4 2 .1 3l-.1.1c1 2 1.7 4.1 1.9 6.3.6 4.7-1.8 9.4-6 11.6.9 0 1.8-.3 2.7-.6C29 27.5 31.7 24 32 20l-.1-2z\"></path></g></svg></div></div></div><div class=\"_1e0ca152 _0af330ea\"><div><div class=\"_38842953\"><svg aria-label=\"Trusted badge\" class=\"c1a24809\" viewbox=\"0 0 32 32\" xmlns=\"http://www.w3.org/2000/svg\"><g fill=\"#34A048\"><path d=\"M25.3 16.8V6.5l-5-1.3-4.1-1h-.3l-4 1c-1.8.3-3.5.8-5.3 1.2V17c-.1 2.1.7 4.2 2 5.8 2 2.3 4.5 4.1 7.2 5.2 2.5-1 4.7-2.5 6.6-4.4 2-1.7 3-4.2 2.9-6.7zm-3.2-4.4l-2.5 3.2-4 5.2c-.8 1-1.3 1-2.1 0L9.9 16a1 1 0 0 1 0-1.5c.4-.4 1.1-.3 1.5.1l2.6 2.3.6.5.3-.5 5.6-5.5.7-.5c.4 0 .9.1 1.1.5.1.2.1.7-.2 1.1z\"></path><path d=\"M29.1 16.8V5a2 2 0 0 0-1.7-2.2l-6-1.5L16.8.1h-1.7l-4.5 1.1-6.1 1.5C3.5 3 2.7 4 2.8 5v11.9c-.1 3 1 6 2.9 8.2a25 25 0 0 0 9.3 6.7l.9.2c.3 0 .7 0 1-.2a24 24 0 0 0 8.4-5.7c2.6-2.3 4-5.7 3.8-9.2zm-4.8 8.5c-2.3 2.3-5 4.1-7.9 5.3-.2.1-.5.1-.8 0a22 22 0 0 1-8.8-6.3c-1.8-2-2.7-4.7-2.6-7.4V5c0-.5.1-.8.6-.9l10.6-2.6h1C20 2.4 23.5 3.2 27 4c.5.1.6.4.6.8v11.8c.3 3.4-1 6.5-3.3 8.7z\"></path></g></svg></div></div></div></div><div><div class=\"_1e0ca152 _0af330ea\"><div><div class=\"_38842953\"><div class=\"_8d80315d\"><span class=\"_40ad3488\"><svg class=\"_0bd1fc7f\" viewbox=\"0 0 10.7 10.2\" xmlns=\"http://www.w3.org/2000/svg\"><path d=\"M10.6 3.9a.6.6 0 0 0-.5-.5L7.2 3 5.9.3a.6.6 0 0 0-.4-.3.6.6 0 0 0-.2 0 .6.6 0 0 0-.5.3L3.5 3l-3 .4a.6.6 0 0 0-.3 1l2.1 2.2-.5 2.9a.6.6 0 0 0 1 .6l2.5-1.3L8 10a.6.6 0 0 0 .5 0 .7.7 0 0 0 .1 0 .6.6 0 0 0 .3-.6l-.5-3 2-2a.6.6 0 0 0 .2-.6z\" fill=\"#FFA900\"></path></svg></span><span aria-label=\"Titanium badge\" class=\"_6a016d4e\">Titanium</span></div></div></div></div></div></div></div><div class=\"_1d4d62ed\"><div class=\"_7ac32433\" index=\"0\" title=\"Prime Location 540 Square Feet Flat In Bahria Town Karachi\"><div class=\"_98646415\"><div class=\"_1e0ca152 _026d7bff\"><div><div class=\"cd6d5974 _532a0352\"><div class=\"c4fc20ba\"><span aria-label=\"Currency\" class=\"c2cc9762\">PKR</span><span class=\"_14bafbc4\"></span><span aria-label=\"Price\" class=\"f343d9ce\">42 Lakh</span></div></div></div></div></div></div><div class=\"fd9b3915\"><div aria-label=\"Location\" class=\"_162e6469\">Bahria Town Karachi, Karachi</div><div class=\"_1da99a35\"><div class=\"_27f6c93d\"><span class=\"b133f61d\"><svg class=\"_98073da9 a8095c74\" viewbox=\"0 0 24 24\" xmlns=\"http://www.w3.org/2000/svg\"><g fill=\"none\"><path d=\"M0 0h24v24H0z\"></path><g data-name=\"Icon awesome-bed\"><path d=\"M8.4 11.8a2 2 0 1 0-2-2 2 2 0 0 0 2 2zm8.8-3.2h-5.6a.4.4 0 0 0-.4.4v3.6H5.6V7.4a.4.4 0 0 0-.4-.4h-.8a.4.4 0 0 0-.4.4v8.8a.4.4 0 0 0 .4.4h.8a.4.4 0 0 0 .4-.4V15h12.8v1.2a.4.4 0 0 0 .4.4h.8a.4.4 0 0 0 .4-.4v-4.8a2.8 2.8 0 0 0-2.8-2.8z\"></path><path d=\"M13.2 10.6V13H18v-1.6a.8.8 0 0 0-.8-.8h-4M4.4 7h.8c.22 0 .4.18.4.4v5.2h5.6V9c0-.22.18-.4.4-.4h5.6a2.8 2.8 0 0 1 2.8 2.8v4.8a.4.4 0 0 1-.4.4h-.8a.4.4 0 0 1-.4-.4V15H5.6v1.2a.4.4 0 0 1-.4.4h-.8a.4.4 0 0 1-.4-.4V7.4c0-.22.18-.4.4-.4zm4 .8a2 2 0 1 1 0 4 2 2 0 0 1 0-4z\" fill=\"#000\"></path></g></g></svg><span aria-label=\"Beds\" class=\"_984949e5\">1</span></span><span class=\"b133f61d\"><svg class=\"_98073da9 a8095c74\" viewbox=\"0 0 24 24\" xmlns=\"http://www.w3.org/2000/svg\"><g fill=\"none\"><g data-name=\"Icon awesome-bath\"><path d=\"M19.25 12H6.5V7.5a1 1 0 0 1 1.84-.54 2.12 2.12 0 0 0 .22 2.6.38.38 0 0 0 0 .5l.37.37a.38.38 0 0 0 .53 0l2.97-2.98a.38.38 0 0 0 0-.52l-.36-.36a.38.38 0 0 0-.5-.01 2.12 2.12 0 0 0-2.02-.48A2.5 2.5 0 0 0 5 7.5V12h-.25a.75.75 0 0 0-.75.75v.5a.75.75 0 0 0 .75.75H5v1a3 3 0 0 0 1 2.24v1a.75.75 0 0 0 .75.76h.5a.75.75 0 0 0 .75-.75V18h8v.25a.75.75 0 0 0 .75.75h.5a.75.75 0 0 0 .75-.75v-1.01A3 3 0 0 0 19 15v-1h.25a.75.75 0 0 0 .75-.75v-.5a.75.75 0 0 0-.75-.75z\"></path><path d=\"M7 14v1c0 .4.2.63.33.75l.29.25h8.76l.3-.25A1 1 0 0 0 17 15v-1H7m.5-9c.85 0 1.6.43 2.05 1.08a2.12 2.12 0 0 1 2 .48.37.37 0 0 1 .52 0l.36.37c.14.14.14.38 0 .53l-2.97 2.97a.38.38 0 0 1-.53 0l-.36-.36a.37.37 0 0 1 0-.5 2.12 2.12 0 0 1-.23-2.6 1 1 0 0 0-1.84.54v4.5h12.75c.4 0 .75.34.75.75v.5c0 .41-.34.75-.75.75H19v1a3 3 0 0 1-1 2.24v1c0 .42-.34.76-.75.76h-.5a.75.75 0 0 1-.75-.75v-.25H8v.25c0 .41-.34.75-.75.75h-.5a.75.75 0 0 1-.75-.76v-1.01A3 3 0 0 1 5 15v-1h-.25a.75.75 0 0 1-.75-.75v-.5c0-.4.34-.75.75-.75H5V7.5A2.5 2.5 0 0 1 7.5 5z\" fill=\"#000\"></path></g><path d=\"M0 0h24v24H0z\"></path></g></svg><span aria-label=\"Baths\" class=\"_984949e5\">1</span></span><span class=\"b133f61d\"><svg class=\"_98073da9 a8095c74\" viewbox=\"0 0 24 24\" xmlns=\"http://www.w3.org/2000/svg\"><path d=\"M10.4 16.83L9.53 16 8.1 17.4 8 6.57l1.5 1.56.9-.95L7.23 4l-3.2 3.17.9.95 1.5-1.56.12 10.85-1.6-1.51-.92.93L7.22 20zm8.8 2.37a.8.8 0 0 0 .8-.8V5.6a.8.8 0 0 0-.8-.8h-4.8a.8.8 0 0 0-.8.8v12.8a.8.8 0 0 0 .8.8zm-.8-1.6h-3.2V16h1.6v-1.6h-1.6v-1.6h1.6v-1.6h-1.6V9.6h1.6V8h-1.6V6.4h3.2z\"></path></svg><span aria-label=\"Area\" class=\"_984949e5\"><div class=\"_7ac32433\" index=\"0\" title=\"Prime Location 540 Square Feet Flat In Bahria Town Karachi\"><div class=\"_1e0ca152 _026d7bff\"><div><span>60 Sq. Yd.</span></div></div></div></span></span></div></div></div><h2 aria-label=\"Title\" class=\"c0df3811\">Prime Location 540 Square Feet Flat In Bahria Town Karachi</h2><div class=\"ee550b27\"><div class=\"cf36e19e\"><span class=\"b779b320\">1 Bed Lounge Apartment Available Fo</span></div>...<span class=\"_6e9f9ae0\">more</span></div><div class=\"_08b01580\"><span aria-label=\"Listing creation date\" class=\"d77ff1d8\">Added: 4 minutes ago</span><span aria-label=\"Listing updated date\" class=\"d77ff1d8\"></span></div></div><div class=\"ae30f392\"><div class=\"_2b6db39e\"><div class=\"ea88ac38\"><button aria-label=\"Call\" class=\"_5b77d672 da62f2ae _8d1154ff\" type=\"button\">Call</button><button aria-label=\"Send email\" class=\"_85d9f2e2 a8197536 a8375d37\"> <!-- -->Email</button><div class=\"_4fab07ae e8755457\"><input class=\"_86801f82\" id=\"email-basket-checkbox-input-44594805\" type=\"checkbox\"/><label class=\"_9a281bec\" for=\"email-basket-checkbox-input-44594805\">EMAIL BASKET</label></div></div></div><div class=\"_90188574\"><div class=\"f23f4390\"><picture class=\"_219b7e0a\"><noscript>\n",
       "<source srcset=\"https://media.zameen.com/thumbnails/163090351-240x180.webp\" type=\"image/webp\"/>\n",
       "<img _1b380bc2=\"\" alt=\"title=\" aria-label=\"Fallback listing photo\" class=\"_54945be7\" role=\"presentation\" src=\"https://media.zameen.com/thumbnails/163090351-240x180.jpeg\"/>\n",
       "</noscript><source data-srcset=\"https://media.zameen.com/thumbnails/163090351-240x180.webp\" type=\"image/webp\"/><img aria-label=\"Agency photo\" class=\"_54945be7 _1b380bc2 lazy\" data-src=\"https://media.zameen.com/thumbnails/163090351-240x180.jpeg\" role=\"presentation\"/></picture></div></div></div></div>"
      ]
     },
     "execution_count": 112,
     "metadata": {},
     "output_type": "execute_result"
    }
   ],
   "source": [
    "all_data[0]"
   ]
  },
  {
   "cell_type": "code",
   "execution_count": 113,
   "metadata": {},
   "outputs": [
    {
     "data": {
      "text/plain": [
       "[<div class=\"_7ac32433\" index=\"0\" title=\"Prime Location 540 Square Feet Flat In Bahria Town Karachi\"><div class=\"_98646415\"><div class=\"_1e0ca152 _026d7bff\"><div><div class=\"cd6d5974 _532a0352\"><div class=\"c4fc20ba\"><span aria-label=\"Currency\" class=\"c2cc9762\">PKR</span><span class=\"_14bafbc4\"></span><span aria-label=\"Price\" class=\"f343d9ce\">42 Lakh</span></div></div></div></div></div></div>,\n",
       " <div class=\"_7ac32433\" index=\"0\" title=\"Prime Location 540 Square Feet Flat In Bahria Town Karachi\"><div class=\"_1e0ca152 _026d7bff\"><div><span>60 Sq. Yd.</span></div></div></div>]"
      ]
     },
     "execution_count": 113,
     "metadata": {},
     "output_type": "execute_result"
    }
   ],
   "source": [
    "all_data[0].find_all(\"div\",class_=\"_7ac32433\")"
   ]
  },
  {
   "cell_type": "code",
   "execution_count": 114,
   "metadata": {},
   "outputs": [
    {
     "data": {
      "text/plain": [
       "'42 Lakh'"
      ]
     },
     "execution_count": 114,
     "metadata": {},
     "output_type": "execute_result"
    }
   ],
   "source": [
    "all_data[0].find_all(\"div\",class_=\"_7ac32433\")[0].find_all(\"span\",class_=\"f343d9ce\")[0].text"
   ]
  },
  {
   "cell_type": "code",
   "execution_count": 115,
   "metadata": {},
   "outputs": [
    {
     "data": {
      "text/plain": [
       "[<div aria-label=\"Location\" class=\"_162e6469\">Bahria Town Karachi, Karachi</div>]"
      ]
     },
     "execution_count": 115,
     "metadata": {},
     "output_type": "execute_result"
    }
   ],
   "source": [
    "all_data[0].find_all(\"div\",class_=\"_162e6469\")"
   ]
  },
  {
   "cell_type": "code",
   "execution_count": 116,
   "metadata": {},
   "outputs": [],
   "source": [
    "data=soup.find_all(\"div\",class_=\"_732aff15 c7b81b5c\")"
   ]
  },
  {
   "cell_type": "code",
   "execution_count": 117,
   "metadata": {},
   "outputs": [
    {
     "data": {
      "text/plain": [
       "25"
      ]
     },
     "execution_count": 117,
     "metadata": {},
     "output_type": "execute_result"
    }
   ],
   "source": [
    "len(data)"
   ]
  },
  {
   "cell_type": "code",
   "execution_count": 121,
   "metadata": {},
   "outputs": [],
   "source": [
    "property_names = []\n",
    "prices = []\n",
    "bedrooms = []\n",
    "bathrooms=[]\n",
    "sq_yard_area=[]\n",
    "for house in data:\n",
    "    prices.append(house.find_all(\"span\",class_=\"f343d9ce\")[0].text)\n",
    "    property_names.append(house.find_all(\"div\",class_=\"_162e6469\")[0].text) \n",
    "    for details in house.find_all(\"div\",class_=\"_27f6c93d\"):\n",
    "        bedrooms.append(details.find_all(\"span\",class_=\"b133f61d\")[0].find_all(\"span\",class_=\"_984949e5\")[0].text)\n",
    "        try:\n",
    "            bathrooms.append(details.find_all(\"span\",class_=\"b133f61d\")[1].find_all(\"span\",class_=\"_984949e5\")[0].text)\n",
    "        except:\n",
    "            bathrooms.append(0)\n",
    "        try:\n",
    "            sq_yard_area.append(details.find_all(\"span\",class_=\"b133f61d\")[2].find_all(\"span\",class_=\"_984949e5\")[0].text)\n",
    "        except:\n",
    "            sq_yard_area.append(0)"
   ]
  },
  {
   "cell_type": "code",
   "execution_count": 122,
   "metadata": {},
   "outputs": [
    {
     "data": {
      "text/plain": [
       "(25, 25, 25, 25, 25)"
      ]
     },
     "execution_count": 122,
     "metadata": {},
     "output_type": "execute_result"
    }
   ],
   "source": [
    "len(property_names),len(bathrooms),len(bedrooms),len(sq_yard_area),len(prices)"
   ]
  },
  {
   "cell_type": "code",
   "execution_count": 123,
   "metadata": {},
   "outputs": [
    {
     "data": {
      "text/html": [
       "<div>\n",
       "<style scoped>\n",
       "    .dataframe tbody tr th:only-of-type {\n",
       "        vertical-align: middle;\n",
       "    }\n",
       "\n",
       "    .dataframe tbody tr th {\n",
       "        vertical-align: top;\n",
       "    }\n",
       "\n",
       "    .dataframe thead th {\n",
       "        text-align: right;\n",
       "    }\n",
       "</style>\n",
       "<table border=\"1\" class=\"dataframe\">\n",
       "  <thead>\n",
       "    <tr style=\"text-align: right;\">\n",
       "      <th></th>\n",
       "      <th>Property_Name</th>\n",
       "      <th>Price</th>\n",
       "      <th>NoOfBedrooms</th>\n",
       "      <th>NoOfBathrooms</th>\n",
       "      <th>AreaSqYards</th>\n",
       "    </tr>\n",
       "  </thead>\n",
       "  <tbody>\n",
       "    <tr>\n",
       "      <th>0</th>\n",
       "      <td>Bahria Town Karachi, Karachi</td>\n",
       "      <td>42 Lakh</td>\n",
       "      <td>1</td>\n",
       "      <td>1</td>\n",
       "      <td>60 Sq. Yd.</td>\n",
       "    </tr>\n",
       "    <tr>\n",
       "      <th>1</th>\n",
       "      <td>Bahria Town - Precinct 17, Bahria Town Karachi</td>\n",
       "      <td>59 Lakh</td>\n",
       "      <td>2</td>\n",
       "      <td>2</td>\n",
       "      <td>161 Sq. Yd.</td>\n",
       "    </tr>\n",
       "    <tr>\n",
       "      <th>2</th>\n",
       "      <td>Bahria Paradise, Bahria Town Karachi</td>\n",
       "      <td>4.2 Crore</td>\n",
       "      <td>5</td>\n",
       "      <td>5</td>\n",
       "      <td>500 Sq. Yd.</td>\n",
       "    </tr>\n",
       "    <tr>\n",
       "      <th>3</th>\n",
       "      <td>Askari 5 - Sector J, Askari 5</td>\n",
       "      <td>3.75 Crore</td>\n",
       "      <td>3</td>\n",
       "      <td>3</td>\n",
       "      <td>300 Sq. Yd.</td>\n",
       "    </tr>\n",
       "    <tr>\n",
       "      <th>4</th>\n",
       "      <td>Bahria Town - Precinct 35, Bahria Sports City</td>\n",
       "      <td>2.1 Crore</td>\n",
       "      <td>4</td>\n",
       "      <td>4</td>\n",
       "      <td>350 Sq. Yd.</td>\n",
       "    </tr>\n",
       "    <tr>\n",
       "      <th>5</th>\n",
       "      <td>Bahria Paradise, Bahria Town Karachi</td>\n",
       "      <td>4.65 Crore</td>\n",
       "      <td>5</td>\n",
       "      <td>5</td>\n",
       "      <td>500 Sq. Yd.</td>\n",
       "    </tr>\n",
       "    <tr>\n",
       "      <th>6</th>\n",
       "      <td>Bahria Town - Precinct 1, Bahria Town Karachi</td>\n",
       "      <td>3.5 Crore</td>\n",
       "      <td>5</td>\n",
       "      <td>6</td>\n",
       "      <td>272 Sq. Yd.</td>\n",
       "    </tr>\n",
       "    <tr>\n",
       "      <th>7</th>\n",
       "      <td>Askari 5 - Sector J, Askari 5</td>\n",
       "      <td>6.8 Crore</td>\n",
       "      <td>5</td>\n",
       "      <td>5</td>\n",
       "      <td>375 Sq. Yd.</td>\n",
       "    </tr>\n",
       "    <tr>\n",
       "      <th>8</th>\n",
       "      <td>North Nazimabad - Block F, North Nazimabad</td>\n",
       "      <td>1.8 Crore</td>\n",
       "      <td>3</td>\n",
       "      <td>3</td>\n",
       "      <td>150 Sq. Yd.</td>\n",
       "    </tr>\n",
       "    <tr>\n",
       "      <th>9</th>\n",
       "      <td>DHA Phase 8, DHA Defence</td>\n",
       "      <td>39.5 Crore</td>\n",
       "      <td>6</td>\n",
       "      <td>1,000 Sq. Yd.</td>\n",
       "      <td>0</td>\n",
       "    </tr>\n",
       "    <tr>\n",
       "      <th>10</th>\n",
       "      <td>Askari 5 - Sector J, Askari 5</td>\n",
       "      <td>6.43 Crore</td>\n",
       "      <td>5</td>\n",
       "      <td>5</td>\n",
       "      <td>375 Sq. Yd.</td>\n",
       "    </tr>\n",
       "    <tr>\n",
       "      <th>11</th>\n",
       "      <td>Askari 5 - Sector J, Askari 5</td>\n",
       "      <td>6.45 Crore</td>\n",
       "      <td>5</td>\n",
       "      <td>5</td>\n",
       "      <td>375 Sq. Yd.</td>\n",
       "    </tr>\n",
       "    <tr>\n",
       "      <th>12</th>\n",
       "      <td>Surjani Town, Gadap Town</td>\n",
       "      <td>55 Lakh</td>\n",
       "      <td>2</td>\n",
       "      <td>2</td>\n",
       "      <td>111 Sq. Yd.</td>\n",
       "    </tr>\n",
       "    <tr>\n",
       "      <th>13</th>\n",
       "      <td>Surjani Town, Gadap Town</td>\n",
       "      <td>44 Lakh</td>\n",
       "      <td>2</td>\n",
       "      <td>2</td>\n",
       "      <td>80 Sq. Yd.</td>\n",
       "    </tr>\n",
       "    <tr>\n",
       "      <th>14</th>\n",
       "      <td>Surjani Town, Gadap Town</td>\n",
       "      <td>25 Lakh</td>\n",
       "      <td>1</td>\n",
       "      <td>1</td>\n",
       "      <td>47 Sq. Yd.</td>\n",
       "    </tr>\n",
       "    <tr>\n",
       "      <th>15</th>\n",
       "      <td>Gulistan-e-Jauhar - Block 13, Gulistan-e-Jauhar</td>\n",
       "      <td>1.1 Crore</td>\n",
       "      <td>3</td>\n",
       "      <td>3</td>\n",
       "      <td>156 Sq. Yd.</td>\n",
       "    </tr>\n",
       "    <tr>\n",
       "      <th>16</th>\n",
       "      <td>Bahria Apartments, Bahria Town Karachi</td>\n",
       "      <td>82 Lakh</td>\n",
       "      <td>2</td>\n",
       "      <td>2</td>\n",
       "      <td>106 Sq. Yd.</td>\n",
       "    </tr>\n",
       "    <tr>\n",
       "      <th>17</th>\n",
       "      <td>Garden West, Karachi</td>\n",
       "      <td>1.85 Crore</td>\n",
       "      <td>3</td>\n",
       "      <td>4</td>\n",
       "      <td>167 Sq. Yd.</td>\n",
       "    </tr>\n",
       "    <tr>\n",
       "      <th>18</th>\n",
       "      <td>Cosmopolitan Society, Karachi</td>\n",
       "      <td>3.1 Crore</td>\n",
       "      <td>3</td>\n",
       "      <td>3</td>\n",
       "      <td>167 Sq. Yd.</td>\n",
       "    </tr>\n",
       "    <tr>\n",
       "      <th>19</th>\n",
       "      <td>Garden East, Jamshed Town</td>\n",
       "      <td>5.25 Crore</td>\n",
       "      <td>5</td>\n",
       "      <td>5</td>\n",
       "      <td>160 Sq. Yd.</td>\n",
       "    </tr>\n",
       "    <tr>\n",
       "      <th>20</th>\n",
       "      <td>Garden West, Karachi</td>\n",
       "      <td>1.35 Crore</td>\n",
       "      <td>3</td>\n",
       "      <td>3</td>\n",
       "      <td>128 Sq. Yd.</td>\n",
       "    </tr>\n",
       "    <tr>\n",
       "      <th>21</th>\n",
       "      <td>Al-Hilal Society, Karachi</td>\n",
       "      <td>5 Crore</td>\n",
       "      <td>8</td>\n",
       "      <td>6</td>\n",
       "      <td>200 Sq. Yd.</td>\n",
       "    </tr>\n",
       "    <tr>\n",
       "      <th>22</th>\n",
       "      <td>Guru Mandir Chorangi, Karachi</td>\n",
       "      <td>4.25 Crore</td>\n",
       "      <td>5</td>\n",
       "      <td>5</td>\n",
       "      <td>222 Sq. Yd.</td>\n",
       "    </tr>\n",
       "    <tr>\n",
       "      <th>23</th>\n",
       "      <td>Shaheed Millat Road, Karachi</td>\n",
       "      <td>9 Crore</td>\n",
       "      <td>6</td>\n",
       "      <td>6</td>\n",
       "      <td>302 Sq. Yd.</td>\n",
       "    </tr>\n",
       "    <tr>\n",
       "      <th>24</th>\n",
       "      <td>PECHS Block 6, PECHS</td>\n",
       "      <td>4.25 Crore</td>\n",
       "      <td>3</td>\n",
       "      <td>3</td>\n",
       "      <td>178 Sq. Yd.</td>\n",
       "    </tr>\n",
       "  </tbody>\n",
       "</table>\n",
       "</div>"
      ],
      "text/plain": [
       "                                      Property_Name       Price NoOfBedrooms  \\\n",
       "0                      Bahria Town Karachi, Karachi     42 Lakh            1   \n",
       "1    Bahria Town - Precinct 17, Bahria Town Karachi     59 Lakh            2   \n",
       "2              Bahria Paradise, Bahria Town Karachi   4.2 Crore            5   \n",
       "3                     Askari 5 - Sector J, Askari 5  3.75 Crore            3   \n",
       "4     Bahria Town - Precinct 35, Bahria Sports City   2.1 Crore            4   \n",
       "5              Bahria Paradise, Bahria Town Karachi  4.65 Crore            5   \n",
       "6     Bahria Town - Precinct 1, Bahria Town Karachi   3.5 Crore            5   \n",
       "7                     Askari 5 - Sector J, Askari 5   6.8 Crore            5   \n",
       "8        North Nazimabad - Block F, North Nazimabad   1.8 Crore            3   \n",
       "9                          DHA Phase 8, DHA Defence  39.5 Crore            6   \n",
       "10                    Askari 5 - Sector J, Askari 5  6.43 Crore            5   \n",
       "11                    Askari 5 - Sector J, Askari 5  6.45 Crore            5   \n",
       "12                         Surjani Town, Gadap Town     55 Lakh            2   \n",
       "13                         Surjani Town, Gadap Town     44 Lakh            2   \n",
       "14                         Surjani Town, Gadap Town     25 Lakh            1   \n",
       "15  Gulistan-e-Jauhar - Block 13, Gulistan-e-Jauhar   1.1 Crore            3   \n",
       "16           Bahria Apartments, Bahria Town Karachi     82 Lakh            2   \n",
       "17                             Garden West, Karachi  1.85 Crore            3   \n",
       "18                    Cosmopolitan Society, Karachi   3.1 Crore            3   \n",
       "19                        Garden East, Jamshed Town  5.25 Crore            5   \n",
       "20                             Garden West, Karachi  1.35 Crore            3   \n",
       "21                        Al-Hilal Society, Karachi     5 Crore            8   \n",
       "22                    Guru Mandir Chorangi, Karachi  4.25 Crore            5   \n",
       "23                     Shaheed Millat Road, Karachi     9 Crore            6   \n",
       "24                             PECHS Block 6, PECHS  4.25 Crore            3   \n",
       "\n",
       "    NoOfBathrooms  AreaSqYards  \n",
       "0               1   60 Sq. Yd.  \n",
       "1               2  161 Sq. Yd.  \n",
       "2               5  500 Sq. Yd.  \n",
       "3               3  300 Sq. Yd.  \n",
       "4               4  350 Sq. Yd.  \n",
       "5               5  500 Sq. Yd.  \n",
       "6               6  272 Sq. Yd.  \n",
       "7               5  375 Sq. Yd.  \n",
       "8               3  150 Sq. Yd.  \n",
       "9   1,000 Sq. Yd.            0  \n",
       "10              5  375 Sq. Yd.  \n",
       "11              5  375 Sq. Yd.  \n",
       "12              2  111 Sq. Yd.  \n",
       "13              2   80 Sq. Yd.  \n",
       "14              1   47 Sq. Yd.  \n",
       "15              3  156 Sq. Yd.  \n",
       "16              2  106 Sq. Yd.  \n",
       "17              4  167 Sq. Yd.  \n",
       "18              3  167 Sq. Yd.  \n",
       "19              5  160 Sq. Yd.  \n",
       "20              3  128 Sq. Yd.  \n",
       "21              6  200 Sq. Yd.  \n",
       "22              5  222 Sq. Yd.  \n",
       "23              6  302 Sq. Yd.  \n",
       "24              3  178 Sq. Yd.  "
      ]
     },
     "execution_count": 123,
     "metadata": {},
     "output_type": "execute_result"
    }
   ],
   "source": [
    "\n",
    "pd.DataFrame({\"Property_Name\":property_names,\n",
    "              \"Price\":prices,\n",
    "               \"NoOfBedrooms\":bedrooms,\n",
    "                \"NoOfBathrooms\":bathrooms,\n",
    "                 \"AreaSqYards\":sq_yard_area })"
   ]
  },
  {
   "cell_type": "code",
   "execution_count": null,
   "metadata": {},
   "outputs": [],
   "source": []
  }
 ],
 "metadata": {
  "kernelspec": {
   "display_name": "Python 3",
   "language": "python",
   "name": "python3"
  },
  "language_info": {
   "codemirror_mode": {
    "name": "ipython",
    "version": 3
   },
   "file_extension": ".py",
   "mimetype": "text/x-python",
   "name": "python",
   "nbconvert_exporter": "python",
   "pygments_lexer": "ipython3",
   "version": "3.11.1"
  },
  "orig_nbformat": 4
 },
 "nbformat": 4,
 "nbformat_minor": 2
}
